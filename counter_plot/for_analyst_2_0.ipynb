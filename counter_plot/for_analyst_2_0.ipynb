{
 "cells": [
  {
   "cell_type": "code",
   "execution_count": 1,
   "id": "1ab0e7f2",
   "metadata": {},
   "outputs": [],
   "source": [
    "# importing libraries\n",
    "import pandas as pd\n",
    "import numpy as np\n",
    "import matplotlib.pyplot as plt\n",
    "import seaborn as sns\n",
    "import datetime as dt\n",
    "from sklearn import datasets, linear_model\n",
    "from sklearn.metrics import mean_squared_error, r2_score\n",
    "import missingno as ms\n",
    "import sklearn"
   ]
  },
  {
   "cell_type": "code",
   "execution_count": 2,
   "id": "9d6e7311",
   "metadata": {},
   "outputs": [
    {
     "data": {
      "text/html": [
       "<div>\n",
       "<style scoped>\n",
       "    .dataframe tbody tr th:only-of-type {\n",
       "        vertical-align: middle;\n",
       "    }\n",
       "\n",
       "    .dataframe tbody tr th {\n",
       "        vertical-align: top;\n",
       "    }\n",
       "\n",
       "    .dataframe thead th {\n",
       "        text-align: right;\n",
       "    }\n",
       "</style>\n",
       "<table border=\"1\" class=\"dataframe\">\n",
       "  <thead>\n",
       "    <tr style=\"text-align: right;\">\n",
       "      <th></th>\n",
       "      <th>type</th>\n",
       "      <th>Shap</th>\n",
       "      <th>P1A, mol</th>\n",
       "      <th>P1ET, mol</th>\n",
       "      <th>CaC</th>\n",
       "      <th>Na</th>\n",
       "      <th>CaO</th>\n",
       "      <th>H2O</th>\n",
       "      <th>Reac</th>\n",
       "      <th>TEMP</th>\n",
       "      <th>RPM</th>\n",
       "      <th>Re_tyP1E</th>\n",
       "      <th>MF</th>\n",
       "      <th>P1ET mol</th>\n",
       "      <th>P1ET Conv %</th>\n",
       "      <th>P1A mol</th>\n",
       "      <th>P1A Conv %</th>\n",
       "    </tr>\n",
       "  </thead>\n",
       "  <tbody>\n",
       "    <tr>\n",
       "      <th>0</th>\n",
       "      <td>LLD</td>\n",
       "      <td>P1El</td>\n",
       "      <td>0.0</td>\n",
       "      <td>0.0</td>\n",
       "      <td>0</td>\n",
       "      <td>0.0</td>\n",
       "      <td>0.0</td>\n",
       "      <td>0.0</td>\n",
       "      <td>14</td>\n",
       "      <td>300</td>\n",
       "      <td>50</td>\n",
       "      <td>Cust1</td>\n",
       "      <td>0.7</td>\n",
       "      <td>NaN</td>\n",
       "      <td>NaN</td>\n",
       "      <td>NaN</td>\n",
       "      <td>NaN</td>\n",
       "    </tr>\n",
       "    <tr>\n",
       "      <th>1</th>\n",
       "      <td>LLD</td>\n",
       "      <td>P1El</td>\n",
       "      <td>0.0</td>\n",
       "      <td>0.0</td>\n",
       "      <td>0</td>\n",
       "      <td>0.0</td>\n",
       "      <td>0.0</td>\n",
       "      <td>0.0</td>\n",
       "      <td>25</td>\n",
       "      <td>300</td>\n",
       "      <td>20</td>\n",
       "      <td>Cust1</td>\n",
       "      <td>1.2</td>\n",
       "      <td>NaN</td>\n",
       "      <td>NaN</td>\n",
       "      <td>NaN</td>\n",
       "      <td>NaN</td>\n",
       "    </tr>\n",
       "    <tr>\n",
       "      <th>2</th>\n",
       "      <td>LLD</td>\n",
       "      <td>P1El</td>\n",
       "      <td>0.0</td>\n",
       "      <td>0.0</td>\n",
       "      <td>0</td>\n",
       "      <td>0.0</td>\n",
       "      <td>0.0</td>\n",
       "      <td>0.0</td>\n",
       "      <td>14</td>\n",
       "      <td>350</td>\n",
       "      <td>50</td>\n",
       "      <td>Cust1</td>\n",
       "      <td>1.4</td>\n",
       "      <td>NaN</td>\n",
       "      <td>NaN</td>\n",
       "      <td>NaN</td>\n",
       "      <td>NaN</td>\n",
       "    </tr>\n",
       "    <tr>\n",
       "      <th>3</th>\n",
       "      <td>LLD</td>\n",
       "      <td>P1El</td>\n",
       "      <td>0.0</td>\n",
       "      <td>0.0</td>\n",
       "      <td>0</td>\n",
       "      <td>0.0</td>\n",
       "      <td>0.0</td>\n",
       "      <td>0.0</td>\n",
       "      <td>25</td>\n",
       "      <td>350</td>\n",
       "      <td>20</td>\n",
       "      <td>Cust1</td>\n",
       "      <td>19.0</td>\n",
       "      <td>NaN</td>\n",
       "      <td>NaN</td>\n",
       "      <td>NaN</td>\n",
       "      <td>NaN</td>\n",
       "    </tr>\n",
       "    <tr>\n",
       "      <th>4</th>\n",
       "      <td>LLD</td>\n",
       "      <td>P1El</td>\n",
       "      <td>0.0</td>\n",
       "      <td>0.0</td>\n",
       "      <td>0</td>\n",
       "      <td>0.0</td>\n",
       "      <td>0.0</td>\n",
       "      <td>0.0</td>\n",
       "      <td>25</td>\n",
       "      <td>370</td>\n",
       "      <td>60</td>\n",
       "      <td>Cust1</td>\n",
       "      <td>63.0</td>\n",
       "      <td>NaN</td>\n",
       "      <td>NaN</td>\n",
       "      <td>NaN</td>\n",
       "      <td>NaN</td>\n",
       "    </tr>\n",
       "  </tbody>\n",
       "</table>\n",
       "</div>"
      ],
      "text/plain": [
       "  type  Shap  P1A, mol  P1ET, mol  CaC   Na  CaO  H2O  Reac  TEMP  RPM  \\\n",
       "0  LLD  P1El       0.0        0.0    0  0.0  0.0  0.0    14   300   50   \n",
       "1  LLD  P1El       0.0        0.0    0  0.0  0.0  0.0    25   300   20   \n",
       "2  LLD  P1El       0.0        0.0    0  0.0  0.0  0.0    14   350   50   \n",
       "3  LLD  P1El       0.0        0.0    0  0.0  0.0  0.0    25   350   20   \n",
       "4  LLD  P1El       0.0        0.0    0  0.0  0.0  0.0    25   370   60   \n",
       "\n",
       "  Re_tyP1E    MF  P1ET mol  P1ET Conv %  P1A mol  P1A Conv %  \n",
       "0    Cust1   0.7       NaN          NaN      NaN         NaN  \n",
       "1    Cust1   1.2       NaN          NaN      NaN         NaN  \n",
       "2    Cust1   1.4       NaN          NaN      NaN         NaN  \n",
       "3    Cust1  19.0       NaN          NaN      NaN         NaN  \n",
       "4    Cust1  63.0       NaN          NaN      NaN         NaN  "
      ]
     },
     "execution_count": 2,
     "metadata": {},
     "output_type": "execute_result"
    }
   ],
   "source": [
    "data = pd.read_excel('Data_analysys_CR_discussed_1.xlsx')\n",
    "data.head()"
   ]
  },
  {
   "cell_type": "code",
   "execution_count": 5,
   "id": "f229c712",
   "metadata": {},
   "outputs": [
    {
     "name": "stdout",
     "output_type": "stream",
     "text": [
      "<class 'pandas.core.frame.DataFrame'>\n",
      "RangeIndex: 176 entries, 0 to 175\n",
      "Data columns (total 17 columns):\n",
      " #   Column       Non-Null Count  Dtype  \n",
      "---  ------       --------------  -----  \n",
      " 0   type         176 non-null    object \n",
      " 1   Shap         176 non-null    object \n",
      " 2   P1A, mol     176 non-null    float64\n",
      " 3   P1ET, mol    176 non-null    float64\n",
      " 4   CaC          176 non-null    int64  \n",
      " 5   Na           175 non-null    float64\n",
      " 6   CaO          172 non-null    float64\n",
      " 7   H2O          176 non-null    float64\n",
      " 8   Reac         176 non-null    int64  \n",
      " 9   TEMP         176 non-null    int64  \n",
      " 10  RPM          176 non-null    int64  \n",
      " 11  Re_tyP1E     176 non-null    object \n",
      " 12  MF           141 non-null    float64\n",
      " 13  P1ET mol     96 non-null     float64\n",
      " 14  P1ET Conv %  81 non-null     float64\n",
      " 15  P1A mol      11 non-null     float64\n",
      " 16  P1A Conv %   11 non-null     float64\n",
      "dtypes: float64(10), int64(4), object(3)\n",
      "memory usage: 23.5+ KB\n"
     ]
    }
   ],
   "source": [
    "data.info ()"
   ]
  },
  {
   "cell_type": "code",
   "execution_count": 3,
   "id": "9d365917",
   "metadata": {},
   "outputs": [],
   "source": [
    "data['TEMP']= pd.to_numeric(data['TEMP'], errors='coerce')"
   ]
  },
  {
   "cell_type": "code",
   "execution_count": 7,
   "id": "0c58def2",
   "metadata": {},
   "outputs": [
    {
     "name": "stdout",
     "output_type": "stream",
     "text": [
      "<class 'pandas.core.frame.DataFrame'>\n",
      "RangeIndex: 176 entries, 0 to 175\n",
      "Data columns (total 17 columns):\n",
      " #   Column       Non-Null Count  Dtype  \n",
      "---  ------       --------------  -----  \n",
      " 0   type         176 non-null    object \n",
      " 1   Shap         176 non-null    object \n",
      " 2   P1A, mol     176 non-null    float64\n",
      " 3   P1ET, mol    176 non-null    float64\n",
      " 4   CaC          176 non-null    int64  \n",
      " 5   Na           175 non-null    float64\n",
      " 6   CaO          172 non-null    float64\n",
      " 7   H2O          176 non-null    float64\n",
      " 8   Reac         176 non-null    int64  \n",
      " 9   TEMP         176 non-null    int64  \n",
      " 10  RPM          176 non-null    int64  \n",
      " 11  Re_tyP1E     176 non-null    object \n",
      " 12  MF           141 non-null    float64\n",
      " 13  P1ET mol     96 non-null     float64\n",
      " 14  P1ET Conv %  81 non-null     float64\n",
      " 15  P1A mol      11 non-null     float64\n",
      " 16  P1A Conv %   11 non-null     float64\n",
      "dtypes: float64(10), int64(4), object(3)\n",
      "memory usage: 23.5+ KB\n"
     ]
    }
   ],
   "source": [
    "data.info()"
   ]
  },
  {
   "cell_type": "code",
   "execution_count": 4,
   "id": "e49afc12",
   "metadata": {},
   "outputs": [
    {
     "data": {
      "text/plain": [
       "Index(['type', 'Shap', 'P1A, mol', 'P1ET, mol', 'CaC', 'Na', 'CaO', 'H2O',\n",
       "       'Reac', 'TEMP', 'RPM', 'Re_tyP1E', 'MF'],\n",
       "      dtype='object')"
      ]
     },
     "execution_count": 4,
     "metadata": {},
     "output_type": "execute_result"
    }
   ],
   "source": [
    "col1 = data.columns[:-4]\n",
    "col1"
   ]
  },
  {
   "cell_type": "code",
   "execution_count": 5,
   "id": "91edad23",
   "metadata": {},
   "outputs": [],
   "source": [
    "data1=data[col1]"
   ]
  },
  {
   "cell_type": "code",
   "execution_count": 10,
   "id": "2245b9df",
   "metadata": {},
   "outputs": [
    {
     "data": {
      "text/plain": [
       "type          0\n",
       "Shap          0\n",
       "P1A, mol      0\n",
       "P1ET, mol     0\n",
       "CaC           0\n",
       "Na            1\n",
       "CaO           4\n",
       "H2O           0\n",
       "Reac          0\n",
       "TEMP          0\n",
       "RPM           0\n",
       "Re_tyP1E      0\n",
       "MF           35\n",
       "dtype: int64"
      ]
     },
     "execution_count": 10,
     "metadata": {},
     "output_type": "execute_result"
    }
   ],
   "source": [
    "check_null=data1.isnull().sum()\n",
    "check_null"
   ]
  },
  {
   "cell_type": "code",
   "execution_count": 6,
   "id": "5151233c",
   "metadata": {},
   "outputs": [
    {
     "data": {
      "text/plain": [
       "(138, 13)"
      ]
     },
     "execution_count": 6,
     "metadata": {},
     "output_type": "execute_result"
    }
   ],
   "source": [
    "data1=data1.dropna(axis=0,how=\"any\")\n",
    "data1.shape"
   ]
  },
  {
   "cell_type": "code",
   "execution_count": 7,
   "id": "7039dc24",
   "metadata": {},
   "outputs": [],
   "source": [
    "data1 = data1.drop(['CaC'],axis = 1)"
   ]
  },
  {
   "cell_type": "code",
   "execution_count": 8,
   "id": "a718a90b",
   "metadata": {},
   "outputs": [
    {
     "data": {
      "text/plain": [
       "type         0\n",
       "Shap         0\n",
       "P1A, mol     0\n",
       "P1ET, mol    0\n",
       "Na           0\n",
       "CaO          0\n",
       "H2O          0\n",
       "Reac         0\n",
       "TEMP         0\n",
       "RPM          0\n",
       "Re_tyP1E     0\n",
       "MF           0\n",
       "dtype: int64"
      ]
     },
     "execution_count": 8,
     "metadata": {},
     "output_type": "execute_result"
    }
   ],
   "source": [
    "check1_null=data1.isnull().sum()\n",
    "check1_null"
   ]
  },
  {
   "cell_type": "code",
   "execution_count": 9,
   "id": "ffe019a6",
   "metadata": {},
   "outputs": [],
   "source": [
    "data1 = data1.drop(data1['Reac'][data1['Reac'] == 26].index,axis = 0)\n",
    "data1 = data1[np.logical_and(data1['Re_tyP1E']!='Cust3' , data1['Re_tyP1E']!='Cust4')]\n",
    "data1 = data1.drop(data1['H2O'][data1['H2O'] == 24].index,axis = 0)\n"
   ]
  },
  {
   "cell_type": "code",
   "execution_count": 13,
   "id": "3da63dee",
   "metadata": {},
   "outputs": [
    {
     "data": {
      "text/plain": [
       "[['type',\n",
       "  array(['LLD', 'P1P', 'Mix', 'LDP1E', 'P1E'], dtype=object),\n",
       "  LLD      59\n",
       "  P1E      32\n",
       "  P1P      15\n",
       "  LDP1E    12\n",
       "  Mix       3\n",
       "  Name: type, dtype: int64],\n",
       " ['Shap',\n",
       "  array(['P1El', 'Fla', 'Mult. Fla'], dtype=object),\n",
       "  P1El         87\n",
       "  Mult. Fla    24\n",
       "  Fla          10\n",
       "  Name: Shap, dtype: int64],\n",
       " ['P1A, mol',\n",
       "  array([0.        , 0.04418522, 0.08837045, 0.13255567]),\n",
       "  0.000000    112\n",
       "  0.044185      7\n",
       "  0.088370      1\n",
       "  0.132556      1\n",
       "  Name: P1A, mol, dtype: int64],\n",
       " ['P1ET, mol',\n",
       "  array([0.        , 0.02604167, 0.078125  , 0.01496347, 0.14963472,\n",
       "         0.04401021, 0.04418522, 0.05208333]),\n",
       "  0.000000    45\n",
       "  0.026042    45\n",
       "  0.044185    23\n",
       "  0.078125     3\n",
       "  0.044010     2\n",
       "  0.014963     1\n",
       "  0.149635     1\n",
       "  0.052083     1\n",
       "  Name: P1ET, mol, dtype: int64],\n",
       " ['H2O',\n",
       "  array([ 0.,  8.,  5., 12.]),\n",
       "  0.0     49\n",
       "  12.0    33\n",
       "  8.0     25\n",
       "  5.0     14\n",
       "  Name: H2O, dtype: int64],\n",
       " ['Reac',\n",
       "  array([14, 25], dtype=int64),\n",
       "  25    99\n",
       "  14    22\n",
       "  Name: Reac, dtype: int64],\n",
       " ['TEMP',\n",
       "  array([300, 350, 370, 380], dtype=int64),\n",
       "  370    42\n",
       "  350    39\n",
       "  380    27\n",
       "  300    13\n",
       "  Name: TEMP, dtype: int64],\n",
       " ['RPM',\n",
       "  array([ 50,  20,  60,  10, 100, 200,  40,  80], dtype=int64),\n",
       "  20     59\n",
       "  60     21\n",
       "  100    17\n",
       "  50     16\n",
       "  10      4\n",
       "  200     2\n",
       "  40      1\n",
       "  80      1\n",
       "  Name: RPM, dtype: int64],\n",
       " ['Re_tyP1E',\n",
       "  array(['Cust1', 'Cust2'], dtype=object),\n",
       "  Cust1    103\n",
       "  Cust2     18\n",
       "  Name: Re_tyP1E, dtype: int64],\n",
       " ['Chem',\n",
       "  array([0.  , 0.08, 0.06, 4.  , 2.  , 8.  , 1.  , 1.5 , 6.  , 0.5 , 2.5 ,\n",
       "         5.  , 7.5 ]),\n",
       "  0.00    50\n",
       "  1.00    20\n",
       "  1.50    10\n",
       "  2.00     9\n",
       "  0.50     8\n",
       "  2.50     6\n",
       "  4.00     5\n",
       "  0.06     4\n",
       "  6.00     3\n",
       "  0.08     2\n",
       "  8.00     2\n",
       "  5.00     1\n",
       "  7.50     1\n",
       "  Name: Chem, dtype: int64]]"
      ]
     },
     "execution_count": 13,
     "metadata": {},
     "output_type": "execute_result"
    }
   ],
   "source": [
    "[[j,data1[j].unique(),data1[j].value_counts() ]for j in data1.columns if data1[j].nunique()<20]"
   ]
  },
  {
   "cell_type": "code",
   "execution_count": 16,
   "id": "e3f5a7b3",
   "metadata": {},
   "outputs": [],
   "source": [
    "# data1['impurity'] = data1['P1A, mol']+data1['P1ET, mol']\n",
    "# data1 = data1.drop(['P1A, mol','P1ET, mol'],axis = 1)\n",
    "# data1"
   ]
  },
  {
   "cell_type": "code",
   "execution_count": 11,
   "id": "49e60a1c",
   "metadata": {},
   "outputs": [],
   "source": [
    "data1 = data1[np.logical_and(data1['Shap'] !='Fla, P1Ellets',data1['Shap'] != 'Pow')]"
   ]
  },
  {
   "cell_type": "code",
   "execution_count": 12,
   "id": "31bc36eb",
   "metadata": {},
   "outputs": [
    {
     "data": {
      "text/html": [
       "<div>\n",
       "<style scoped>\n",
       "    .dataframe tbody tr th:only-of-type {\n",
       "        vertical-align: middle;\n",
       "    }\n",
       "\n",
       "    .dataframe tbody tr th {\n",
       "        vertical-align: top;\n",
       "    }\n",
       "\n",
       "    .dataframe thead th {\n",
       "        text-align: right;\n",
       "    }\n",
       "</style>\n",
       "<table border=\"1\" class=\"dataframe\">\n",
       "  <thead>\n",
       "    <tr style=\"text-align: right;\">\n",
       "      <th></th>\n",
       "      <th>type</th>\n",
       "      <th>Shap</th>\n",
       "      <th>P1A, mol</th>\n",
       "      <th>P1ET, mol</th>\n",
       "      <th>H2O</th>\n",
       "      <th>Reac</th>\n",
       "      <th>TEMP</th>\n",
       "      <th>RPM</th>\n",
       "      <th>Re_tyP1E</th>\n",
       "      <th>MF</th>\n",
       "      <th>Chem</th>\n",
       "    </tr>\n",
       "  </thead>\n",
       "  <tbody>\n",
       "    <tr>\n",
       "      <th>0</th>\n",
       "      <td>LLD</td>\n",
       "      <td>P1El</td>\n",
       "      <td>0.000000</td>\n",
       "      <td>0.000000</td>\n",
       "      <td>0.0</td>\n",
       "      <td>14</td>\n",
       "      <td>300</td>\n",
       "      <td>50</td>\n",
       "      <td>Cust1</td>\n",
       "      <td>0.7</td>\n",
       "      <td>0.0</td>\n",
       "    </tr>\n",
       "    <tr>\n",
       "      <th>1</th>\n",
       "      <td>LLD</td>\n",
       "      <td>P1El</td>\n",
       "      <td>0.000000</td>\n",
       "      <td>0.000000</td>\n",
       "      <td>0.0</td>\n",
       "      <td>25</td>\n",
       "      <td>300</td>\n",
       "      <td>20</td>\n",
       "      <td>Cust1</td>\n",
       "      <td>1.2</td>\n",
       "      <td>0.0</td>\n",
       "    </tr>\n",
       "    <tr>\n",
       "      <th>2</th>\n",
       "      <td>LLD</td>\n",
       "      <td>P1El</td>\n",
       "      <td>0.000000</td>\n",
       "      <td>0.000000</td>\n",
       "      <td>0.0</td>\n",
       "      <td>14</td>\n",
       "      <td>350</td>\n",
       "      <td>50</td>\n",
       "      <td>Cust1</td>\n",
       "      <td>1.4</td>\n",
       "      <td>0.0</td>\n",
       "    </tr>\n",
       "    <tr>\n",
       "      <th>3</th>\n",
       "      <td>LLD</td>\n",
       "      <td>P1El</td>\n",
       "      <td>0.000000</td>\n",
       "      <td>0.000000</td>\n",
       "      <td>0.0</td>\n",
       "      <td>25</td>\n",
       "      <td>350</td>\n",
       "      <td>20</td>\n",
       "      <td>Cust1</td>\n",
       "      <td>19.0</td>\n",
       "      <td>0.0</td>\n",
       "    </tr>\n",
       "    <tr>\n",
       "      <th>4</th>\n",
       "      <td>LLD</td>\n",
       "      <td>P1El</td>\n",
       "      <td>0.000000</td>\n",
       "      <td>0.000000</td>\n",
       "      <td>0.0</td>\n",
       "      <td>25</td>\n",
       "      <td>370</td>\n",
       "      <td>60</td>\n",
       "      <td>Cust1</td>\n",
       "      <td>63.0</td>\n",
       "      <td>0.0</td>\n",
       "    </tr>\n",
       "    <tr>\n",
       "      <th>...</th>\n",
       "      <td>...</td>\n",
       "      <td>...</td>\n",
       "      <td>...</td>\n",
       "      <td>...</td>\n",
       "      <td>...</td>\n",
       "      <td>...</td>\n",
       "      <td>...</td>\n",
       "      <td>...</td>\n",
       "      <td>...</td>\n",
       "      <td>...</td>\n",
       "      <td>...</td>\n",
       "    </tr>\n",
       "    <tr>\n",
       "      <th>170</th>\n",
       "      <td>P1E</td>\n",
       "      <td>P1El</td>\n",
       "      <td>0.044185</td>\n",
       "      <td>0.026042</td>\n",
       "      <td>12.0</td>\n",
       "      <td>25</td>\n",
       "      <td>380</td>\n",
       "      <td>20</td>\n",
       "      <td>Cust1</td>\n",
       "      <td>32.0</td>\n",
       "      <td>2.5</td>\n",
       "    </tr>\n",
       "    <tr>\n",
       "      <th>171</th>\n",
       "      <td>P1E</td>\n",
       "      <td>P1El</td>\n",
       "      <td>0.088370</td>\n",
       "      <td>0.052083</td>\n",
       "      <td>12.0</td>\n",
       "      <td>25</td>\n",
       "      <td>370</td>\n",
       "      <td>20</td>\n",
       "      <td>Cust1</td>\n",
       "      <td>40.0</td>\n",
       "      <td>5.0</td>\n",
       "    </tr>\n",
       "    <tr>\n",
       "      <th>172</th>\n",
       "      <td>P1E</td>\n",
       "      <td>P1El</td>\n",
       "      <td>0.132556</td>\n",
       "      <td>0.078125</td>\n",
       "      <td>12.0</td>\n",
       "      <td>25</td>\n",
       "      <td>370</td>\n",
       "      <td>20</td>\n",
       "      <td>Cust1</td>\n",
       "      <td>100.0</td>\n",
       "      <td>7.5</td>\n",
       "    </tr>\n",
       "    <tr>\n",
       "      <th>173</th>\n",
       "      <td>Mix</td>\n",
       "      <td>P1El</td>\n",
       "      <td>0.000000</td>\n",
       "      <td>0.000000</td>\n",
       "      <td>0.0</td>\n",
       "      <td>14</td>\n",
       "      <td>300</td>\n",
       "      <td>50</td>\n",
       "      <td>Cust1</td>\n",
       "      <td>1.3</td>\n",
       "      <td>0.0</td>\n",
       "    </tr>\n",
       "    <tr>\n",
       "      <th>174</th>\n",
       "      <td>Mix</td>\n",
       "      <td>P1El</td>\n",
       "      <td>0.000000</td>\n",
       "      <td>0.000000</td>\n",
       "      <td>0.0</td>\n",
       "      <td>14</td>\n",
       "      <td>350</td>\n",
       "      <td>50</td>\n",
       "      <td>Cust1</td>\n",
       "      <td>3.1</td>\n",
       "      <td>0.0</td>\n",
       "    </tr>\n",
       "  </tbody>\n",
       "</table>\n",
       "<p>121 rows × 11 columns</p>\n",
       "</div>"
      ],
      "text/plain": [
       "    type  Shap  P1A, mol  P1ET, mol   H2O  Reac  TEMP  RPM Re_tyP1E     MF  \\\n",
       "0    LLD  P1El  0.000000   0.000000   0.0    14   300   50    Cust1    0.7   \n",
       "1    LLD  P1El  0.000000   0.000000   0.0    25   300   20    Cust1    1.2   \n",
       "2    LLD  P1El  0.000000   0.000000   0.0    14   350   50    Cust1    1.4   \n",
       "3    LLD  P1El  0.000000   0.000000   0.0    25   350   20    Cust1   19.0   \n",
       "4    LLD  P1El  0.000000   0.000000   0.0    25   370   60    Cust1   63.0   \n",
       "..   ...   ...       ...        ...   ...   ...   ...  ...      ...    ...   \n",
       "170  P1E  P1El  0.044185   0.026042  12.0    25   380   20    Cust1   32.0   \n",
       "171  P1E  P1El  0.088370   0.052083  12.0    25   370   20    Cust1   40.0   \n",
       "172  P1E  P1El  0.132556   0.078125  12.0    25   370   20    Cust1  100.0   \n",
       "173  Mix  P1El  0.000000   0.000000   0.0    14   300   50    Cust1    1.3   \n",
       "174  Mix  P1El  0.000000   0.000000   0.0    14   350   50    Cust1    3.1   \n",
       "\n",
       "     Chem  \n",
       "0     0.0  \n",
       "1     0.0  \n",
       "2     0.0  \n",
       "3     0.0  \n",
       "4     0.0  \n",
       "..    ...  \n",
       "170   2.5  \n",
       "171   5.0  \n",
       "172   7.5  \n",
       "173   0.0  \n",
       "174   0.0  \n",
       "\n",
       "[121 rows x 11 columns]"
      ]
     },
     "execution_count": 12,
     "metadata": {},
     "output_type": "execute_result"
    }
   ],
   "source": [
    "data1['Chem'] = data1['CaO']+data1['Na']\n",
    "data1 = data1.drop(['CaO','Na'],axis = 1)\n",
    "data1"
   ]
  },
  {
   "cell_type": "code",
   "execution_count": 19,
   "id": "c8cddde6",
   "metadata": {},
   "outputs": [],
   "source": [
    "# data1 = data1.drop(['Chem'],axis = 1)"
   ]
  },
  {
   "cell_type": "code",
   "execution_count": null,
   "id": "442ee1b2",
   "metadata": {},
   "outputs": [],
   "source": [
    "data1['type']"
   ]
  },
  {
   "cell_type": "code",
   "execution_count": 25,
   "id": "a528d9aa",
   "metadata": {},
   "outputs": [],
   "source": [
    "data_p = data1"
   ]
  },
  {
   "cell_type": "code",
   "execution_count": 26,
   "id": "e4e1c7bd",
   "metadata": {},
   "outputs": [
    {
     "data": {
      "text/plain": [
       "(59, 11)"
      ]
     },
     "execution_count": 26,
     "metadata": {},
     "output_type": "execute_result"
    }
   ],
   "source": [
    "data_p = data_p[data_p['type'] == 'LLD']\n",
    "data_p.shape"
   ]
  },
  {
   "cell_type": "code",
   "execution_count": 27,
   "id": "d7119580",
   "metadata": {},
   "outputs": [
    {
     "data": {
      "text/plain": [
       "(48, 11)"
      ]
     },
     "execution_count": 27,
     "metadata": {},
     "output_type": "execute_result"
    }
   ],
   "source": [
    "data_p = data_p[data_p['Shap'] == 'P1El']\n",
    "data_p.shape"
   ]
  },
  {
   "cell_type": "code",
   "execution_count": 28,
   "id": "1ba53282",
   "metadata": {},
   "outputs": [
    {
     "data": {
      "text/plain": [
       "(48, 11)"
      ]
     },
     "execution_count": 28,
     "metadata": {},
     "output_type": "execute_result"
    }
   ],
   "source": [
    "data_p = data_p[data_p['P1A, mol'] == 0]\n",
    "data_p.shape"
   ]
  },
  {
   "cell_type": "code",
   "execution_count": 29,
   "id": "b143cf88",
   "metadata": {},
   "outputs": [
    {
     "data": {
      "text/plain": [
       "(34, 11)"
      ]
     },
     "execution_count": 29,
     "metadata": {},
     "output_type": "execute_result"
    }
   ],
   "source": [
    "data_p = data_p[data_p['Reac'] == 25]\n",
    "data_p.shape"
   ]
  },
  {
   "cell_type": "code",
   "execution_count": 30,
   "id": "3d2464f8",
   "metadata": {},
   "outputs": [
    {
     "data": {
      "text/plain": [
       "(27, 11)"
      ]
     },
     "execution_count": 30,
     "metadata": {},
     "output_type": "execute_result"
    }
   ],
   "source": [
    "data_p = data_p[data_p['Re_tyP1E'] == 'Cust1']\n",
    "data_p.shape"
   ]
  },
  {
   "cell_type": "code",
   "execution_count": 32,
   "id": "1268b419",
   "metadata": {},
   "outputs": [
    {
     "data": {
      "text/plain": [
       "(26, 11)"
      ]
     },
     "execution_count": 32,
     "metadata": {},
     "output_type": "execute_result"
    }
   ],
   "source": [
    "data_p = data_p[data_p['TEMP'] >= 350]\n",
    "data_p.shape"
   ]
  },
  {
   "cell_type": "code",
   "execution_count": 33,
   "id": "8c30e0df",
   "metadata": {},
   "outputs": [
    {
     "data": {
      "text/plain": [
       "(26, 11)"
      ]
     },
     "execution_count": 33,
     "metadata": {},
     "output_type": "execute_result"
    }
   ],
   "source": [
    "data_p = data_p[data_p['RPM'] >= 20]\n",
    "data_p.shape"
   ]
  },
  {
   "cell_type": "code",
   "execution_count": 34,
   "id": "7fbf71b8",
   "metadata": {},
   "outputs": [
    {
     "data": {
      "text/plain": [
       "(26, 11)"
      ]
     },
     "execution_count": 34,
     "metadata": {},
     "output_type": "execute_result"
    }
   ],
   "source": [
    "data_p = data_p[np.logical_and(data_p['Chem'] >= 0,data_p['Chem']<= 2)]\n",
    "data_p.shape"
   ]
  },
  {
   "cell_type": "code",
   "execution_count": 35,
   "id": "2ff424ff",
   "metadata": {},
   "outputs": [
    {
     "data": {
      "text/plain": [
       "(26, 11)"
      ]
     },
     "execution_count": 35,
     "metadata": {},
     "output_type": "execute_result"
    }
   ],
   "source": [
    "data_p = data_p[np.logical_and(data_p['H2O'] >= 0,data_p['H2O']<= 12)]\n",
    "data_p.shape"
   ]
  },
  {
   "cell_type": "code",
   "execution_count": 36,
   "id": "6a678331",
   "metadata": {},
   "outputs": [
    {
     "data": {
      "text/plain": [
       "(121, 11)"
      ]
     },
     "execution_count": 36,
     "metadata": {},
     "output_type": "execute_result"
    }
   ],
   "source": [
    "data1.shape"
   ]
  }
 ],
 "metadata": {
  "kernelspec": {
   "display_name": "Python 3.10.5 64-bit",
   "language": "python",
   "name": "python3"
  },
  "language_info": {
   "codemirror_mode": {
    "name": "ipython",
    "version": 3
   },
   "file_extension": ".py",
   "mimetype": "text/x-python",
   "name": "python",
   "nbconvert_exporter": "python",
   "pygments_lexer": "ipython3",
   "version": "3.10.5"
  },
  "vscode": {
   "interpreter": {
    "hash": "6118f8b0c334f391d84970982c520357315f884dbe29af70b7d2e69871c6f541"
   }
  }
 },
 "nbformat": 4,
 "nbformat_minor": 5
}
